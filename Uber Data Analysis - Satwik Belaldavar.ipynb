{
 "cells": [
  {
   "cell_type": "code",
   "execution_count": 95,
   "id": "53fa39cf",
   "metadata": {},
   "outputs": [],
   "source": [
    "import pandas as pd  # importing package pandas \n",
    "import numpy as np   # importing package numpy"
   ]
  },
  {
   "cell_type": "code",
   "execution_count": 96,
   "id": "ccf5aac9",
   "metadata": {},
   "outputs": [],
   "source": [
    "filepath = 'Uber Request Data.csv' # initialising the path of csv file to variable called filepath"
   ]
  },
  {
   "cell_type": "code",
   "execution_count": 97,
   "id": "424e4cec",
   "metadata": {},
   "outputs": [
    {
     "data": {
      "text/html": [
       "<div>\n",
       "<style scoped>\n",
       "    .dataframe tbody tr th:only-of-type {\n",
       "        vertical-align: middle;\n",
       "    }\n",
       "\n",
       "    .dataframe tbody tr th {\n",
       "        vertical-align: top;\n",
       "    }\n",
       "\n",
       "    .dataframe thead th {\n",
       "        text-align: right;\n",
       "    }\n",
       "</style>\n",
       "<table border=\"1\" class=\"dataframe\">\n",
       "  <thead>\n",
       "    <tr style=\"text-align: right;\">\n",
       "      <th></th>\n",
       "      <th>Request id</th>\n",
       "      <th>Pickup point</th>\n",
       "      <th>Driver id</th>\n",
       "      <th>Status</th>\n",
       "      <th>Request timestamp</th>\n",
       "      <th>Drop timestamp</th>\n",
       "    </tr>\n",
       "  </thead>\n",
       "  <tbody>\n",
       "    <tr>\n",
       "      <th>0</th>\n",
       "      <td>619</td>\n",
       "      <td>Airport</td>\n",
       "      <td>1.0</td>\n",
       "      <td>Trip Completed</td>\n",
       "      <td>11/7/2016 11:51</td>\n",
       "      <td>11/7/2016 13:00</td>\n",
       "    </tr>\n",
       "    <tr>\n",
       "      <th>1</th>\n",
       "      <td>867</td>\n",
       "      <td>Airport</td>\n",
       "      <td>1.0</td>\n",
       "      <td>Trip Completed</td>\n",
       "      <td>11/7/2016 17:57</td>\n",
       "      <td>11/7/2016 18:47</td>\n",
       "    </tr>\n",
       "    <tr>\n",
       "      <th>2</th>\n",
       "      <td>1807</td>\n",
       "      <td>City</td>\n",
       "      <td>1.0</td>\n",
       "      <td>Trip Completed</td>\n",
       "      <td>12/7/2016 9:17</td>\n",
       "      <td>12/7/2016 9:58</td>\n",
       "    </tr>\n",
       "    <tr>\n",
       "      <th>3</th>\n",
       "      <td>2532</td>\n",
       "      <td>Airport</td>\n",
       "      <td>1.0</td>\n",
       "      <td>Trip Completed</td>\n",
       "      <td>12/7/2016 21:08</td>\n",
       "      <td>12/7/2016 22:03</td>\n",
       "    </tr>\n",
       "    <tr>\n",
       "      <th>4</th>\n",
       "      <td>3112</td>\n",
       "      <td>City</td>\n",
       "      <td>1.0</td>\n",
       "      <td>Trip Completed</td>\n",
       "      <td>13-07-2016 08:33:16</td>\n",
       "      <td>13-07-2016 09:25:47</td>\n",
       "    </tr>\n",
       "    <tr>\n",
       "      <th>...</th>\n",
       "      <td>...</td>\n",
       "      <td>...</td>\n",
       "      <td>...</td>\n",
       "      <td>...</td>\n",
       "      <td>...</td>\n",
       "      <td>...</td>\n",
       "    </tr>\n",
       "    <tr>\n",
       "      <th>1996</th>\n",
       "      <td>1041</td>\n",
       "      <td>Airport</td>\n",
       "      <td>NaN</td>\n",
       "      <td>No Cars Available</td>\n",
       "      <td>11/7/2016 19:34</td>\n",
       "      <td>NaN</td>\n",
       "    </tr>\n",
       "    <tr>\n",
       "      <th>1997</th>\n",
       "      <td>1043</td>\n",
       "      <td>Airport</td>\n",
       "      <td>NaN</td>\n",
       "      <td>No Cars Available</td>\n",
       "      <td>11/7/2016 19:34</td>\n",
       "      <td>NaN</td>\n",
       "    </tr>\n",
       "    <tr>\n",
       "      <th>1998</th>\n",
       "      <td>1038</td>\n",
       "      <td>Airport</td>\n",
       "      <td>NaN</td>\n",
       "      <td>No Cars Available</td>\n",
       "      <td>11/7/2016 19:35</td>\n",
       "      <td>NaN</td>\n",
       "    </tr>\n",
       "    <tr>\n",
       "      <th>1999</th>\n",
       "      <td>1047</td>\n",
       "      <td>Airport</td>\n",
       "      <td>NaN</td>\n",
       "      <td>No Cars Available</td>\n",
       "      <td>11/7/2016 19:39</td>\n",
       "      <td>NaN</td>\n",
       "    </tr>\n",
       "    <tr>\n",
       "      <th>2000</th>\n",
       "      <td>1045</td>\n",
       "      <td>City</td>\n",
       "      <td>NaN</td>\n",
       "      <td>No Cars Available</td>\n",
       "      <td>11/7/2016 19:40</td>\n",
       "      <td>NaN</td>\n",
       "    </tr>\n",
       "  </tbody>\n",
       "</table>\n",
       "<p>2001 rows × 6 columns</p>\n",
       "</div>"
      ],
      "text/plain": [
       "      Request id Pickup point  Driver id             Status  \\\n",
       "0            619      Airport        1.0     Trip Completed   \n",
       "1            867      Airport        1.0     Trip Completed   \n",
       "2           1807         City        1.0     Trip Completed   \n",
       "3           2532      Airport        1.0     Trip Completed   \n",
       "4           3112         City        1.0     Trip Completed   \n",
       "...          ...          ...        ...                ...   \n",
       "1996        1041      Airport        NaN  No Cars Available   \n",
       "1997        1043      Airport        NaN  No Cars Available   \n",
       "1998        1038      Airport        NaN  No Cars Available   \n",
       "1999        1047      Airport        NaN  No Cars Available   \n",
       "2000        1045         City        NaN  No Cars Available   \n",
       "\n",
       "        Request timestamp       Drop timestamp  \n",
       "0         11/7/2016 11:51      11/7/2016 13:00  \n",
       "1         11/7/2016 17:57      11/7/2016 18:47  \n",
       "2          12/7/2016 9:17       12/7/2016 9:58  \n",
       "3         12/7/2016 21:08      12/7/2016 22:03  \n",
       "4     13-07-2016 08:33:16  13-07-2016 09:25:47  \n",
       "...                   ...                  ...  \n",
       "1996      11/7/2016 19:34                  NaN  \n",
       "1997      11/7/2016 19:34                  NaN  \n",
       "1998      11/7/2016 19:35                  NaN  \n",
       "1999      11/7/2016 19:39                  NaN  \n",
       "2000      11/7/2016 19:40                  NaN  \n",
       "\n",
       "[2001 rows x 6 columns]"
      ]
     },
     "execution_count": 97,
     "metadata": {},
     "output_type": "execute_result"
    }
   ],
   "source": [
    "Uberdf = pd.read_csv(filepath, sep = ',') # reading the dataset and seperating each column with comma(,).\n",
    "Uberdf"
   ]
  },
  {
   "cell_type": "code",
   "execution_count": 98,
   "id": "d72129df",
   "metadata": {},
   "outputs": [
    {
     "data": {
      "text/plain": [
       "(2001, 6)"
      ]
     },
     "execution_count": 98,
     "metadata": {},
     "output_type": "execute_result"
    }
   ],
   "source": [
    "Uberdf.shape # Knowing the number of columns and rows in the dataset using shape function"
   ]
  },
  {
   "cell_type": "code",
   "execution_count": 99,
   "id": "7d11dfea",
   "metadata": {},
   "outputs": [
    {
     "data": {
      "text/plain": [
       "Request id             0\n",
       "Pickup point           0\n",
       "Driver id            346\n",
       "Status                 0\n",
       "Request timestamp      0\n",
       "Drop timestamp       841\n",
       "dtype: int64"
      ]
     },
     "execution_count": 99,
     "metadata": {},
     "output_type": "execute_result"
    }
   ],
   "source": [
    "Uberdf.isnull().sum() # Checking for null values in the dataset using isnull() function and getting count of null values using \n",
    "# sum() function."
   ]
  },
  {
   "cell_type": "code",
   "execution_count": 100,
   "id": "a78a74ae",
   "metadata": {},
   "outputs": [],
   "source": [
    "Uberdf.fillna(0, inplace = True) # Filling the null vlaues in the dataset with 0 using fillna() function."
   ]
  },
  {
   "cell_type": "code",
   "execution_count": 101,
   "id": "58a8f1e7",
   "metadata": {},
   "outputs": [
    {
     "data": {
      "text/plain": [
       "Request id           0\n",
       "Pickup point         0\n",
       "Driver id            0\n",
       "Status               0\n",
       "Request timestamp    0\n",
       "Drop timestamp       0\n",
       "dtype: int64"
      ]
     },
     "execution_count": 101,
     "metadata": {},
     "output_type": "execute_result"
    }
   ],
   "source": [
    "Uberdf.isnull().sum() # Verifying that there are no null values."
   ]
  },
  {
   "cell_type": "code",
   "execution_count": 102,
   "id": "edc76589",
   "metadata": {},
   "outputs": [
    {
     "data": {
      "text/plain": [
       "0"
      ]
     },
     "execution_count": 102,
     "metadata": {},
     "output_type": "execute_result"
    }
   ],
   "source": [
    "Uberdf.duplicated().sum() # Checking for duplicates in the dataset using duplicated() function and getting count of it using \n",
    "# sum() function."
   ]
  },
  {
   "cell_type": "code",
   "execution_count": 103,
   "id": "32453ca7",
   "metadata": {},
   "outputs": [
    {
     "data": {
      "text/html": [
       "<div>\n",
       "<style scoped>\n",
       "    .dataframe tbody tr th:only-of-type {\n",
       "        vertical-align: middle;\n",
       "    }\n",
       "\n",
       "    .dataframe tbody tr th {\n",
       "        vertical-align: top;\n",
       "    }\n",
       "\n",
       "    .dataframe thead th {\n",
       "        text-align: right;\n",
       "    }\n",
       "</style>\n",
       "<table border=\"1\" class=\"dataframe\">\n",
       "  <thead>\n",
       "    <tr style=\"text-align: right;\">\n",
       "      <th></th>\n",
       "      <th>Request id</th>\n",
       "      <th>Pickup point</th>\n",
       "      <th>Driver id</th>\n",
       "      <th>Status</th>\n",
       "      <th>Request timestamp</th>\n",
       "      <th>Drop timestamp</th>\n",
       "    </tr>\n",
       "  </thead>\n",
       "  <tbody>\n",
       "    <tr>\n",
       "      <th>0</th>\n",
       "      <td>619</td>\n",
       "      <td>Airport</td>\n",
       "      <td>1.0</td>\n",
       "      <td>Trip Completed</td>\n",
       "      <td>11/7/2016 11:51</td>\n",
       "      <td>11/7/2016 13:00</td>\n",
       "    </tr>\n",
       "    <tr>\n",
       "      <th>1</th>\n",
       "      <td>867</td>\n",
       "      <td>Airport</td>\n",
       "      <td>1.0</td>\n",
       "      <td>Trip Completed</td>\n",
       "      <td>11/7/2016 17:57</td>\n",
       "      <td>11/7/2016 18:47</td>\n",
       "    </tr>\n",
       "    <tr>\n",
       "      <th>2</th>\n",
       "      <td>1807</td>\n",
       "      <td>City</td>\n",
       "      <td>1.0</td>\n",
       "      <td>Trip Completed</td>\n",
       "      <td>12/7/2016 9:17</td>\n",
       "      <td>12/7/2016 9:58</td>\n",
       "    </tr>\n",
       "    <tr>\n",
       "      <th>3</th>\n",
       "      <td>2532</td>\n",
       "      <td>Airport</td>\n",
       "      <td>1.0</td>\n",
       "      <td>Trip Completed</td>\n",
       "      <td>12/7/2016 21:08</td>\n",
       "      <td>12/7/2016 22:03</td>\n",
       "    </tr>\n",
       "    <tr>\n",
       "      <th>4</th>\n",
       "      <td>3112</td>\n",
       "      <td>City</td>\n",
       "      <td>1.0</td>\n",
       "      <td>Trip Completed</td>\n",
       "      <td>13-07-2016 08:33:16</td>\n",
       "      <td>13-07-2016 09:25:47</td>\n",
       "    </tr>\n",
       "  </tbody>\n",
       "</table>\n",
       "</div>"
      ],
      "text/plain": [
       "   Request id Pickup point  Driver id          Status    Request timestamp  \\\n",
       "0         619      Airport        1.0  Trip Completed      11/7/2016 11:51   \n",
       "1         867      Airport        1.0  Trip Completed      11/7/2016 17:57   \n",
       "2        1807         City        1.0  Trip Completed       12/7/2016 9:17   \n",
       "3        2532      Airport        1.0  Trip Completed      12/7/2016 21:08   \n",
       "4        3112         City        1.0  Trip Completed  13-07-2016 08:33:16   \n",
       "\n",
       "        Drop timestamp  \n",
       "0      11/7/2016 13:00  \n",
       "1      11/7/2016 18:47  \n",
       "2       12/7/2016 9:58  \n",
       "3      12/7/2016 22:03  \n",
       "4  13-07-2016 09:25:47  "
      ]
     },
     "execution_count": 103,
     "metadata": {},
     "output_type": "execute_result"
    }
   ],
   "source": [
    "Uberdf.head() # prints the top 5 rows in the datset "
   ]
  },
  {
   "cell_type": "code",
   "execution_count": 104,
   "id": "e1d706e3",
   "metadata": {},
   "outputs": [],
   "source": [
    "Uberdf['Request timestamp'] = pd.to_datetime(Uberdf['Request timestamp']) # Using to_datetime() function get the Request \n",
    "# timestamp column values into date and time format.\n",
    "Uberdf['Drop timestamp'] = pd.to_datetime(Uberdf['Drop timestamp']) # Using to_datetime() function get the Drop timestamp \n",
    "# column values into date and time format."
   ]
  },
  {
   "cell_type": "code",
   "execution_count": 105,
   "id": "3a6f3b19",
   "metadata": {},
   "outputs": [
    {
     "data": {
      "text/html": [
       "<div>\n",
       "<style scoped>\n",
       "    .dataframe tbody tr th:only-of-type {\n",
       "        vertical-align: middle;\n",
       "    }\n",
       "\n",
       "    .dataframe tbody tr th {\n",
       "        vertical-align: top;\n",
       "    }\n",
       "\n",
       "    .dataframe thead th {\n",
       "        text-align: right;\n",
       "    }\n",
       "</style>\n",
       "<table border=\"1\" class=\"dataframe\">\n",
       "  <thead>\n",
       "    <tr style=\"text-align: right;\">\n",
       "      <th></th>\n",
       "      <th>Request id</th>\n",
       "      <th>Pickup point</th>\n",
       "      <th>Driver id</th>\n",
       "      <th>Status</th>\n",
       "      <th>Request timestamp</th>\n",
       "      <th>Drop timestamp</th>\n",
       "    </tr>\n",
       "  </thead>\n",
       "  <tbody>\n",
       "    <tr>\n",
       "      <th>0</th>\n",
       "      <td>619</td>\n",
       "      <td>Airport</td>\n",
       "      <td>1.0</td>\n",
       "      <td>Trip Completed</td>\n",
       "      <td>2016-11-07 11:51:00</td>\n",
       "      <td>2016-11-07 13:00:00</td>\n",
       "    </tr>\n",
       "    <tr>\n",
       "      <th>1</th>\n",
       "      <td>867</td>\n",
       "      <td>Airport</td>\n",
       "      <td>1.0</td>\n",
       "      <td>Trip Completed</td>\n",
       "      <td>2016-11-07 17:57:00</td>\n",
       "      <td>2016-11-07 18:47:00</td>\n",
       "    </tr>\n",
       "    <tr>\n",
       "      <th>2</th>\n",
       "      <td>1807</td>\n",
       "      <td>City</td>\n",
       "      <td>1.0</td>\n",
       "      <td>Trip Completed</td>\n",
       "      <td>2016-12-07 09:17:00</td>\n",
       "      <td>2016-12-07 09:58:00</td>\n",
       "    </tr>\n",
       "    <tr>\n",
       "      <th>3</th>\n",
       "      <td>2532</td>\n",
       "      <td>Airport</td>\n",
       "      <td>1.0</td>\n",
       "      <td>Trip Completed</td>\n",
       "      <td>2016-12-07 21:08:00</td>\n",
       "      <td>2016-12-07 22:03:00</td>\n",
       "    </tr>\n",
       "    <tr>\n",
       "      <th>4</th>\n",
       "      <td>3112</td>\n",
       "      <td>City</td>\n",
       "      <td>1.0</td>\n",
       "      <td>Trip Completed</td>\n",
       "      <td>2016-07-13 08:33:16</td>\n",
       "      <td>2016-07-13 09:25:47</td>\n",
       "    </tr>\n",
       "  </tbody>\n",
       "</table>\n",
       "</div>"
      ],
      "text/plain": [
       "   Request id Pickup point  Driver id          Status   Request timestamp  \\\n",
       "0         619      Airport        1.0  Trip Completed 2016-11-07 11:51:00   \n",
       "1         867      Airport        1.0  Trip Completed 2016-11-07 17:57:00   \n",
       "2        1807         City        1.0  Trip Completed 2016-12-07 09:17:00   \n",
       "3        2532      Airport        1.0  Trip Completed 2016-12-07 21:08:00   \n",
       "4        3112         City        1.0  Trip Completed 2016-07-13 08:33:16   \n",
       "\n",
       "       Drop timestamp  \n",
       "0 2016-11-07 13:00:00  \n",
       "1 2016-11-07 18:47:00  \n",
       "2 2016-12-07 09:58:00  \n",
       "3 2016-12-07 22:03:00  \n",
       "4 2016-07-13 09:25:47  "
      ]
     },
     "execution_count": 105,
     "metadata": {},
     "output_type": "execute_result"
    }
   ],
   "source": [
    "Uberdf.head() # checking the format of the Request and Drop timestamp "
   ]
  },
  {
   "cell_type": "code",
   "execution_count": 106,
   "id": "5db78c20",
   "metadata": {},
   "outputs": [
    {
     "data": {
      "text/plain": [
       "['Request id',\n",
       " 'Pickup point',\n",
       " 'Driver id',\n",
       " 'Status',\n",
       " 'Request timestamp',\n",
       " 'Drop timestamp']"
      ]
     },
     "execution_count": 106,
     "metadata": {},
     "output_type": "execute_result"
    }
   ],
   "source": [
    "Uberdf.columns.values.tolist() # Converting the columns in csv file to list using tolist() fuction."
   ]
  },
  {
   "cell_type": "code",
   "execution_count": 107,
   "id": "2024c745",
   "metadata": {},
   "outputs": [
    {
     "data": {
      "text/plain": [
       "Request id                    int64\n",
       "Pickup point                 object\n",
       "Driver id                   float64\n",
       "Status                       object\n",
       "Request timestamp    datetime64[ns]\n",
       "Drop timestamp       datetime64[ns]\n",
       "dtype: object"
      ]
     },
     "execution_count": 107,
     "metadata": {},
     "output_type": "execute_result"
    }
   ],
   "source": [
    "Uberdf.dtypes # knowing the datatype of each column in the dataset."
   ]
  },
  {
   "cell_type": "code",
   "execution_count": 108,
   "id": "55341108",
   "metadata": {},
   "outputs": [],
   "source": [
    "Uberdf['Ride duration'] = Uberdf['Drop timestamp'] - Uberdf['Request timestamp'] # Generating the new column called ride duration\n",
    "# which stores the value of that we get from subtarcting the value of Drop timestamp with Request timestamp."
   ]
  },
  {
   "cell_type": "code",
   "execution_count": 109,
   "id": "588b72eb",
   "metadata": {},
   "outputs": [
    {
     "data": {
      "text/html": [
       "<div>\n",
       "<style scoped>\n",
       "    .dataframe tbody tr th:only-of-type {\n",
       "        vertical-align: middle;\n",
       "    }\n",
       "\n",
       "    .dataframe tbody tr th {\n",
       "        vertical-align: top;\n",
       "    }\n",
       "\n",
       "    .dataframe thead th {\n",
       "        text-align: right;\n",
       "    }\n",
       "</style>\n",
       "<table border=\"1\" class=\"dataframe\">\n",
       "  <thead>\n",
       "    <tr style=\"text-align: right;\">\n",
       "      <th></th>\n",
       "      <th>Request id</th>\n",
       "      <th>Pickup point</th>\n",
       "      <th>Driver id</th>\n",
       "      <th>Status</th>\n",
       "      <th>Request timestamp</th>\n",
       "      <th>Drop timestamp</th>\n",
       "      <th>Ride duration</th>\n",
       "    </tr>\n",
       "  </thead>\n",
       "  <tbody>\n",
       "    <tr>\n",
       "      <th>0</th>\n",
       "      <td>619</td>\n",
       "      <td>Airport</td>\n",
       "      <td>1.0</td>\n",
       "      <td>Trip Completed</td>\n",
       "      <td>2016-11-07 11:51:00</td>\n",
       "      <td>2016-11-07 13:00:00</td>\n",
       "      <td>0 days 01:09:00</td>\n",
       "    </tr>\n",
       "    <tr>\n",
       "      <th>1</th>\n",
       "      <td>867</td>\n",
       "      <td>Airport</td>\n",
       "      <td>1.0</td>\n",
       "      <td>Trip Completed</td>\n",
       "      <td>2016-11-07 17:57:00</td>\n",
       "      <td>2016-11-07 18:47:00</td>\n",
       "      <td>0 days 00:50:00</td>\n",
       "    </tr>\n",
       "    <tr>\n",
       "      <th>2</th>\n",
       "      <td>1807</td>\n",
       "      <td>City</td>\n",
       "      <td>1.0</td>\n",
       "      <td>Trip Completed</td>\n",
       "      <td>2016-12-07 09:17:00</td>\n",
       "      <td>2016-12-07 09:58:00</td>\n",
       "      <td>0 days 00:41:00</td>\n",
       "    </tr>\n",
       "    <tr>\n",
       "      <th>3</th>\n",
       "      <td>2532</td>\n",
       "      <td>Airport</td>\n",
       "      <td>1.0</td>\n",
       "      <td>Trip Completed</td>\n",
       "      <td>2016-12-07 21:08:00</td>\n",
       "      <td>2016-12-07 22:03:00</td>\n",
       "      <td>0 days 00:55:00</td>\n",
       "    </tr>\n",
       "    <tr>\n",
       "      <th>4</th>\n",
       "      <td>3112</td>\n",
       "      <td>City</td>\n",
       "      <td>1.0</td>\n",
       "      <td>Trip Completed</td>\n",
       "      <td>2016-07-13 08:33:16</td>\n",
       "      <td>2016-07-13 09:25:47</td>\n",
       "      <td>0 days 00:52:31</td>\n",
       "    </tr>\n",
       "  </tbody>\n",
       "</table>\n",
       "</div>"
      ],
      "text/plain": [
       "   Request id Pickup point  Driver id          Status   Request timestamp  \\\n",
       "0         619      Airport        1.0  Trip Completed 2016-11-07 11:51:00   \n",
       "1         867      Airport        1.0  Trip Completed 2016-11-07 17:57:00   \n",
       "2        1807         City        1.0  Trip Completed 2016-12-07 09:17:00   \n",
       "3        2532      Airport        1.0  Trip Completed 2016-12-07 21:08:00   \n",
       "4        3112         City        1.0  Trip Completed 2016-07-13 08:33:16   \n",
       "\n",
       "       Drop timestamp   Ride duration  \n",
       "0 2016-11-07 13:00:00 0 days 01:09:00  \n",
       "1 2016-11-07 18:47:00 0 days 00:50:00  \n",
       "2 2016-12-07 09:58:00 0 days 00:41:00  \n",
       "3 2016-12-07 22:03:00 0 days 00:55:00  \n",
       "4 2016-07-13 09:25:47 0 days 00:52:31  "
      ]
     },
     "execution_count": 109,
     "metadata": {},
     "output_type": "execute_result"
    }
   ],
   "source": [
    "Uberdf.head() # prints the first 5 rows of dataset with the new column i.e. ride duration."
   ]
  },
  {
   "cell_type": "code",
   "execution_count": 110,
   "id": "bc8d9f0c",
   "metadata": {},
   "outputs": [
    {
     "data": {
      "text/plain": [
       "Trip Completed       1160\n",
       "Cancelled             495\n",
       "No Cars Available     346\n",
       "Name: Status, dtype: int64"
      ]
     },
     "execution_count": 110,
     "metadata": {},
     "output_type": "execute_result"
    }
   ],
   "source": [
    "Uberdf['Status'].value_counts() # Using value_counts() fucntion to get the count of Trip completed, cancelled, no car available \n",
    "# categories of status column."
   ]
  },
  {
   "cell_type": "code",
   "execution_count": 111,
   "id": "a38be80b",
   "metadata": {},
   "outputs": [
    {
     "data": {
      "text/html": [
       "<div>\n",
       "<style scoped>\n",
       "    .dataframe tbody tr th:only-of-type {\n",
       "        vertical-align: middle;\n",
       "    }\n",
       "\n",
       "    .dataframe tbody tr th {\n",
       "        vertical-align: top;\n",
       "    }\n",
       "\n",
       "    .dataframe thead th {\n",
       "        text-align: right;\n",
       "    }\n",
       "</style>\n",
       "<table border=\"1\" class=\"dataframe\">\n",
       "  <thead>\n",
       "    <tr style=\"text-align: right;\">\n",
       "      <th></th>\n",
       "      <th>Request id</th>\n",
       "      <th>Pickup point</th>\n",
       "      <th>Driver id</th>\n",
       "      <th>Status</th>\n",
       "      <th>Request timestamp</th>\n",
       "      <th>Drop timestamp</th>\n",
       "      <th>Ride duration</th>\n",
       "      <th>Request period</th>\n",
       "    </tr>\n",
       "  </thead>\n",
       "  <tbody>\n",
       "    <tr>\n",
       "      <th>0</th>\n",
       "      <td>619</td>\n",
       "      <td>Airport</td>\n",
       "      <td>1.0</td>\n",
       "      <td>Trip Completed</td>\n",
       "      <td>2016-11-07 11:51:00</td>\n",
       "      <td>2016-11-07 13:00:00</td>\n",
       "      <td>0 days 01:09:00</td>\n",
       "      <td>Pre Noon</td>\n",
       "    </tr>\n",
       "    <tr>\n",
       "      <th>1</th>\n",
       "      <td>867</td>\n",
       "      <td>Airport</td>\n",
       "      <td>1.0</td>\n",
       "      <td>Trip Completed</td>\n",
       "      <td>2016-11-07 17:57:00</td>\n",
       "      <td>2016-11-07 18:47:00</td>\n",
       "      <td>0 days 00:50:00</td>\n",
       "      <td>Day time</td>\n",
       "    </tr>\n",
       "    <tr>\n",
       "      <th>2</th>\n",
       "      <td>1807</td>\n",
       "      <td>City</td>\n",
       "      <td>1.0</td>\n",
       "      <td>Trip Completed</td>\n",
       "      <td>2016-12-07 09:17:00</td>\n",
       "      <td>2016-12-07 09:58:00</td>\n",
       "      <td>0 days 00:41:00</td>\n",
       "      <td>Early Morning</td>\n",
       "    </tr>\n",
       "    <tr>\n",
       "      <th>3</th>\n",
       "      <td>2532</td>\n",
       "      <td>Airport</td>\n",
       "      <td>1.0</td>\n",
       "      <td>Trip Completed</td>\n",
       "      <td>2016-12-07 21:08:00</td>\n",
       "      <td>2016-12-07 22:03:00</td>\n",
       "      <td>0 days 00:55:00</td>\n",
       "      <td>Evening</td>\n",
       "    </tr>\n",
       "    <tr>\n",
       "      <th>4</th>\n",
       "      <td>3112</td>\n",
       "      <td>City</td>\n",
       "      <td>1.0</td>\n",
       "      <td>Trip Completed</td>\n",
       "      <td>2016-07-13 08:33:16</td>\n",
       "      <td>2016-07-13 09:25:47</td>\n",
       "      <td>0 days 00:52:31</td>\n",
       "      <td>Early Morning</td>\n",
       "    </tr>\n",
       "  </tbody>\n",
       "</table>\n",
       "</div>"
      ],
      "text/plain": [
       "   Request id Pickup point  Driver id          Status   Request timestamp  \\\n",
       "0         619      Airport        1.0  Trip Completed 2016-11-07 11:51:00   \n",
       "1         867      Airport        1.0  Trip Completed 2016-11-07 17:57:00   \n",
       "2        1807         City        1.0  Trip Completed 2016-12-07 09:17:00   \n",
       "3        2532      Airport        1.0  Trip Completed 2016-12-07 21:08:00   \n",
       "4        3112         City        1.0  Trip Completed 2016-07-13 08:33:16   \n",
       "\n",
       "       Drop timestamp   Ride duration Request period  \n",
       "0 2016-11-07 13:00:00 0 days 01:09:00       Pre Noon  \n",
       "1 2016-11-07 18:47:00 0 days 00:50:00       Day time  \n",
       "2 2016-12-07 09:58:00 0 days 00:41:00  Early Morning  \n",
       "3 2016-12-07 22:03:00 0 days 00:55:00        Evening  \n",
       "4 2016-07-13 09:25:47 0 days 00:52:31  Early Morning  "
      ]
     },
     "execution_count": 111,
     "metadata": {},
     "output_type": "execute_result"
    }
   ],
   "source": [
    "def period(x): # creating function called period.\n",
    "    if(x<5):   # if the ride request is before 5:00 AM \n",
    "        return(\"Pre Morning\") # prints Pre Morning\n",
    "    elif((x>=5)&(x<=9)): # if the ride request is between 5:00 AM and 9:00 AM\n",
    "        return(\"Early Morning\") # prints Early Morning\n",
    "    elif((x>9)&(x<=12)): # if the ride request is between 9:00 AM and 12:00 PM\n",
    "        return(\"Pre Noon\") # prints Pre Noon\n",
    "    elif((x>12)&(x<=17)): # if the ride request is between 12:00 PM and 17:00 PM\n",
    "        return(\"Day time\") # prints Day time\n",
    "    elif((x>17)&(x<=21)):  # if the ride request is between 17:00 PM and 21:00 AM\n",
    "        return(\"Evening\") # prints Evening\n",
    "    else:\n",
    "        return(\"Late Night\") # prints Late Night\n",
    "Uberdf['Request period']=Uberdf[\"Request timestamp\"].dt.hour.apply(period) # Using dt.hour.apply() I am taking only hour \n",
    "# from time format of Request period column and apply it on above if else loop.  \n",
    "Uberdf.head()"
   ]
  },
  {
   "cell_type": "code",
   "execution_count": 112,
   "id": "e9eb8190",
   "metadata": {},
   "outputs": [],
   "source": [
    "# Uberdf.to_csv('Uber_Request_Data_V2.csv') # Saving the output into new csv file "
   ]
  },
  {
   "cell_type": "code",
   "execution_count": 113,
   "id": "beaf9c60",
   "metadata": {
    "scrolled": true
   },
   "outputs": [
    {
     "data": {
      "text/plain": [
       "Early Morning    770\n",
       "Evening          418\n",
       "Day time         331\n",
       "Pre Noon         199\n",
       "Pre Morning      167\n",
       "Late Night       116\n",
       "Name: Request period, dtype: int64"
      ]
     },
     "execution_count": 113,
     "metadata": {},
     "output_type": "execute_result"
    }
   ],
   "source": [
    "Uberdf['Request period'].value_counts() # getting the count of the ride request during the different Request period."
   ]
  },
  {
   "cell_type": "code",
   "execution_count": 114,
   "id": "e6e1e86a",
   "metadata": {},
   "outputs": [
    {
     "name": "stdout",
     "output_type": "stream",
     "text": [
      "Status          Cancelled  No Cars Available  Trip Completed\n",
      "Request period                                              \n",
      "Day time             46.0               74.0           211.0\n",
      "Early Morning       327.0               82.0           361.0\n",
      "Evening              50.0              111.0           257.0\n",
      "Late Night           10.0                NaN           106.0\n",
      "Pre Morning          24.0               56.0            87.0\n",
      "Pre Noon             38.0               23.0           138.0\n"
     ]
    }
   ],
   "source": [
    "counts_reqperiod=pd.pivot_table(Uberdf,index='Request period',columns='Status',values='Request id',aggfunc='count') \n",
    "# Using pivot on the datset where getting count for each category of request period (on y-axis) with three different categories\n",
    "# of status column (on x-axis).  \n",
    "print(counts_reqperiod) # prints the table."
   ]
  },
  {
   "cell_type": "code",
   "execution_count": 115,
   "id": "90a664ec",
   "metadata": {},
   "outputs": [
    {
     "name": "stdout",
     "output_type": "stream",
     "text": [
      "Status        Cancelled  No Cars Available  Trip Completed\n",
      "Pickup point                                              \n",
      "Airport              78                206             547\n",
      "City                417                140             613\n"
     ]
    }
   ],
   "source": [
    "counts_pickup=pd.pivot_table(Uberdf,index='Pickup point',columns='Status',values='Request id',aggfunc='count')\n",
    "# Using pivot on the datset where getting count for each category of pickup point (on y-axis) with three different categories\n",
    "# of status column (on x-axis).  \n",
    "print(counts_pickup) # prints the table"
   ]
  },
  {
   "cell_type": "code",
   "execution_count": 116,
   "id": "070c3acb",
   "metadata": {},
   "outputs": [
    {
     "data": {
      "text/html": [
       "<div>\n",
       "<style scoped>\n",
       "    .dataframe tbody tr th:only-of-type {\n",
       "        vertical-align: middle;\n",
       "    }\n",
       "\n",
       "    .dataframe tbody tr th {\n",
       "        vertical-align: top;\n",
       "    }\n",
       "\n",
       "    .dataframe thead th {\n",
       "        text-align: right;\n",
       "    }\n",
       "</style>\n",
       "<table border=\"1\" class=\"dataframe\">\n",
       "  <thead>\n",
       "    <tr style=\"text-align: right;\">\n",
       "      <th></th>\n",
       "      <th>Status</th>\n",
       "      <th>Cancelled</th>\n",
       "      <th>No Cars Available</th>\n",
       "      <th>Trip Completed</th>\n",
       "    </tr>\n",
       "    <tr>\n",
       "      <th>Pickup point</th>\n",
       "      <th>Request period</th>\n",
       "      <th></th>\n",
       "      <th></th>\n",
       "      <th></th>\n",
       "    </tr>\n",
       "  </thead>\n",
       "  <tbody>\n",
       "    <tr>\n",
       "      <th rowspan=\"6\" valign=\"top\">Airport</th>\n",
       "      <th>Day time</th>\n",
       "      <td>24.0</td>\n",
       "      <td>57.0</td>\n",
       "      <td>94.0</td>\n",
       "    </tr>\n",
       "    <tr>\n",
       "      <th>Early Morning</th>\n",
       "      <td>9.0</td>\n",
       "      <td>2.0</td>\n",
       "      <td>156.0</td>\n",
       "    </tr>\n",
       "    <tr>\n",
       "      <th>Evening</th>\n",
       "      <td>34.0</td>\n",
       "      <td>108.0</td>\n",
       "      <td>130.0</td>\n",
       "    </tr>\n",
       "    <tr>\n",
       "      <th>Late Night</th>\n",
       "      <td>1.0</td>\n",
       "      <td>NaN</td>\n",
       "      <td>64.0</td>\n",
       "    </tr>\n",
       "    <tr>\n",
       "      <th>Pre Morning</th>\n",
       "      <td>1.0</td>\n",
       "      <td>30.0</td>\n",
       "      <td>39.0</td>\n",
       "    </tr>\n",
       "    <tr>\n",
       "      <th>Pre Noon</th>\n",
       "      <td>9.0</td>\n",
       "      <td>9.0</td>\n",
       "      <td>64.0</td>\n",
       "    </tr>\n",
       "    <tr>\n",
       "      <th rowspan=\"6\" valign=\"top\">City</th>\n",
       "      <th>Day time</th>\n",
       "      <td>22.0</td>\n",
       "      <td>17.0</td>\n",
       "      <td>117.0</td>\n",
       "    </tr>\n",
       "    <tr>\n",
       "      <th>Early Morning</th>\n",
       "      <td>318.0</td>\n",
       "      <td>80.0</td>\n",
       "      <td>205.0</td>\n",
       "    </tr>\n",
       "    <tr>\n",
       "      <th>Evening</th>\n",
       "      <td>16.0</td>\n",
       "      <td>3.0</td>\n",
       "      <td>127.0</td>\n",
       "    </tr>\n",
       "    <tr>\n",
       "      <th>Late Night</th>\n",
       "      <td>9.0</td>\n",
       "      <td>NaN</td>\n",
       "      <td>42.0</td>\n",
       "    </tr>\n",
       "    <tr>\n",
       "      <th>Pre Morning</th>\n",
       "      <td>23.0</td>\n",
       "      <td>26.0</td>\n",
       "      <td>48.0</td>\n",
       "    </tr>\n",
       "    <tr>\n",
       "      <th>Pre Noon</th>\n",
       "      <td>29.0</td>\n",
       "      <td>14.0</td>\n",
       "      <td>74.0</td>\n",
       "    </tr>\n",
       "  </tbody>\n",
       "</table>\n",
       "</div>"
      ],
      "text/plain": [
       "Status                       Cancelled  No Cars Available  Trip Completed\n",
       "Pickup point Request period                                              \n",
       "Airport      Day time             24.0               57.0            94.0\n",
       "             Early Morning         9.0                2.0           156.0\n",
       "             Evening              34.0              108.0           130.0\n",
       "             Late Night            1.0                NaN            64.0\n",
       "             Pre Morning           1.0               30.0            39.0\n",
       "             Pre Noon              9.0                9.0            64.0\n",
       "City         Day time             22.0               17.0           117.0\n",
       "             Early Morning       318.0               80.0           205.0\n",
       "             Evening              16.0                3.0           127.0\n",
       "             Late Night            9.0                NaN            42.0\n",
       "             Pre Morning          23.0               26.0            48.0\n",
       "             Pre Noon             29.0               14.0            74.0"
      ]
     },
     "execution_count": 116,
     "metadata": {},
     "output_type": "execute_result"
    }
   ],
   "source": [
    "req_by_pickup_period= pd.pivot_table(Uberdf,columns='Status',index=('Pickup point','Request period'),values='Request id',aggfunc='count')\n",
    "# Using pivot on the datset where getting count for each category of pickup point and segregating with each category of request \n",
    "# period (on y-axis) with three different categories of status column (on x-axis).  \n",
    "req_by_pickup_period"
   ]
  },
  {
   "cell_type": "code",
   "execution_count": 117,
   "id": "75109abb",
   "metadata": {},
   "outputs": [],
   "source": [
    "# req_by_pickup_period.to_csv('Count_of_Pickup_Point_with_seperate_Request_period.csv') # Saving the output into new csv file "
   ]
  }
 ],
 "metadata": {
  "kernelspec": {
   "display_name": "Python 3 (ipykernel)",
   "language": "python",
   "name": "python3"
  },
  "language_info": {
   "codemirror_mode": {
    "name": "ipython",
    "version": 3
   },
   "file_extension": ".py",
   "mimetype": "text/x-python",
   "name": "python",
   "nbconvert_exporter": "python",
   "pygments_lexer": "ipython3",
   "version": "3.9.12"
  }
 },
 "nbformat": 4,
 "nbformat_minor": 5
}
